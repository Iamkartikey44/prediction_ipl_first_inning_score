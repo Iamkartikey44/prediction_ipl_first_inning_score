{
 "cells": [
  {
   "cell_type": "markdown",
   "metadata": {},
   "source": [
    "# First Innings Score Prediction "
   ]
  },
  {
   "cell_type": "markdown",
   "metadata": {},
   "source": [
    "**Indian Premier League (IPL), Indian professional Twenty20 (T20) cricket league established in 2008. The league, which is based on a round-robin group and knockout format, has teams in major Indian cities.**"
   ]
  },
  {
   "cell_type": "code",
   "execution_count": 1,
   "metadata": {},
   "outputs": [],
   "source": [
    "#Importing Essential libraries\n",
    "import pandas as pd\n",
    "import pickle\n",
    "import seaborn as sns\n",
    "import numpy as np\n",
    "from datetime import datetime\n",
    "from sklearn.linear_model import LinearRegression\n",
    "from sklearn.linear_model import Ridge,Lasso\n",
    "from sklearn.model_selection import GridSearchCV\n",
    "from sklearn import metrics \n",
    "from sklearn.metrics import mean_absolute_error as mae\n",
    "import warnings\n",
    "warnings.filterwarnings('ignore')"
   ]
  },
  {
   "cell_type": "markdown",
   "metadata": {},
   "source": [
    "Loading the Datasets"
   ]
  },
  {
   "cell_type": "code",
   "execution_count": 2,
   "metadata": {},
   "outputs": [],
   "source": [
    "ipl_df = pd.read_csv('ipl.csv')"
   ]
  },
  {
   "cell_type": "markdown",
   "metadata": {},
   "source": [
    "Look at the dataset using Head and Tail "
   ]
  },
  {
   "cell_type": "code",
   "execution_count": 3,
   "metadata": {},
   "outputs": [
    {
     "data": {
      "text/html": [
       "<div>\n",
       "<style scoped>\n",
       "    .dataframe tbody tr th:only-of-type {\n",
       "        vertical-align: middle;\n",
       "    }\n",
       "\n",
       "    .dataframe tbody tr th {\n",
       "        vertical-align: top;\n",
       "    }\n",
       "\n",
       "    .dataframe thead th {\n",
       "        text-align: right;\n",
       "    }\n",
       "</style>\n",
       "<table border=\"1\" class=\"dataframe\">\n",
       "  <thead>\n",
       "    <tr style=\"text-align: right;\">\n",
       "      <th></th>\n",
       "      <th>mid</th>\n",
       "      <th>date</th>\n",
       "      <th>venue</th>\n",
       "      <th>bat_team</th>\n",
       "      <th>bowl_team</th>\n",
       "      <th>batsman</th>\n",
       "      <th>bowler</th>\n",
       "      <th>runs</th>\n",
       "      <th>wickets</th>\n",
       "      <th>overs</th>\n",
       "      <th>runs_last_5</th>\n",
       "      <th>wickets_last_5</th>\n",
       "      <th>striker</th>\n",
       "      <th>non-striker</th>\n",
       "      <th>total</th>\n",
       "    </tr>\n",
       "  </thead>\n",
       "  <tbody>\n",
       "    <tr>\n",
       "      <th>0</th>\n",
       "      <td>1</td>\n",
       "      <td>2008-04-18</td>\n",
       "      <td>M Chinnaswamy Stadium</td>\n",
       "      <td>Kolkata Knight Riders</td>\n",
       "      <td>Royal Challengers Bangalore</td>\n",
       "      <td>SC Ganguly</td>\n",
       "      <td>P Kumar</td>\n",
       "      <td>1</td>\n",
       "      <td>0</td>\n",
       "      <td>0.1</td>\n",
       "      <td>1</td>\n",
       "      <td>0</td>\n",
       "      <td>0</td>\n",
       "      <td>0</td>\n",
       "      <td>222</td>\n",
       "    </tr>\n",
       "    <tr>\n",
       "      <th>1</th>\n",
       "      <td>1</td>\n",
       "      <td>2008-04-18</td>\n",
       "      <td>M Chinnaswamy Stadium</td>\n",
       "      <td>Kolkata Knight Riders</td>\n",
       "      <td>Royal Challengers Bangalore</td>\n",
       "      <td>BB McCullum</td>\n",
       "      <td>P Kumar</td>\n",
       "      <td>1</td>\n",
       "      <td>0</td>\n",
       "      <td>0.2</td>\n",
       "      <td>1</td>\n",
       "      <td>0</td>\n",
       "      <td>0</td>\n",
       "      <td>0</td>\n",
       "      <td>222</td>\n",
       "    </tr>\n",
       "    <tr>\n",
       "      <th>2</th>\n",
       "      <td>1</td>\n",
       "      <td>2008-04-18</td>\n",
       "      <td>M Chinnaswamy Stadium</td>\n",
       "      <td>Kolkata Knight Riders</td>\n",
       "      <td>Royal Challengers Bangalore</td>\n",
       "      <td>BB McCullum</td>\n",
       "      <td>P Kumar</td>\n",
       "      <td>2</td>\n",
       "      <td>0</td>\n",
       "      <td>0.2</td>\n",
       "      <td>2</td>\n",
       "      <td>0</td>\n",
       "      <td>0</td>\n",
       "      <td>0</td>\n",
       "      <td>222</td>\n",
       "    </tr>\n",
       "    <tr>\n",
       "      <th>3</th>\n",
       "      <td>1</td>\n",
       "      <td>2008-04-18</td>\n",
       "      <td>M Chinnaswamy Stadium</td>\n",
       "      <td>Kolkata Knight Riders</td>\n",
       "      <td>Royal Challengers Bangalore</td>\n",
       "      <td>BB McCullum</td>\n",
       "      <td>P Kumar</td>\n",
       "      <td>2</td>\n",
       "      <td>0</td>\n",
       "      <td>0.3</td>\n",
       "      <td>2</td>\n",
       "      <td>0</td>\n",
       "      <td>0</td>\n",
       "      <td>0</td>\n",
       "      <td>222</td>\n",
       "    </tr>\n",
       "    <tr>\n",
       "      <th>4</th>\n",
       "      <td>1</td>\n",
       "      <td>2008-04-18</td>\n",
       "      <td>M Chinnaswamy Stadium</td>\n",
       "      <td>Kolkata Knight Riders</td>\n",
       "      <td>Royal Challengers Bangalore</td>\n",
       "      <td>BB McCullum</td>\n",
       "      <td>P Kumar</td>\n",
       "      <td>2</td>\n",
       "      <td>0</td>\n",
       "      <td>0.4</td>\n",
       "      <td>2</td>\n",
       "      <td>0</td>\n",
       "      <td>0</td>\n",
       "      <td>0</td>\n",
       "      <td>222</td>\n",
       "    </tr>\n",
       "    <tr>\n",
       "      <th>5</th>\n",
       "      <td>1</td>\n",
       "      <td>2008-04-18</td>\n",
       "      <td>M Chinnaswamy Stadium</td>\n",
       "      <td>Kolkata Knight Riders</td>\n",
       "      <td>Royal Challengers Bangalore</td>\n",
       "      <td>BB McCullum</td>\n",
       "      <td>P Kumar</td>\n",
       "      <td>2</td>\n",
       "      <td>0</td>\n",
       "      <td>0.5</td>\n",
       "      <td>2</td>\n",
       "      <td>0</td>\n",
       "      <td>0</td>\n",
       "      <td>0</td>\n",
       "      <td>222</td>\n",
       "    </tr>\n",
       "    <tr>\n",
       "      <th>6</th>\n",
       "      <td>1</td>\n",
       "      <td>2008-04-18</td>\n",
       "      <td>M Chinnaswamy Stadium</td>\n",
       "      <td>Kolkata Knight Riders</td>\n",
       "      <td>Royal Challengers Bangalore</td>\n",
       "      <td>BB McCullum</td>\n",
       "      <td>P Kumar</td>\n",
       "      <td>3</td>\n",
       "      <td>0</td>\n",
       "      <td>0.6</td>\n",
       "      <td>3</td>\n",
       "      <td>0</td>\n",
       "      <td>0</td>\n",
       "      <td>0</td>\n",
       "      <td>222</td>\n",
       "    </tr>\n",
       "    <tr>\n",
       "      <th>7</th>\n",
       "      <td>1</td>\n",
       "      <td>2008-04-18</td>\n",
       "      <td>M Chinnaswamy Stadium</td>\n",
       "      <td>Kolkata Knight Riders</td>\n",
       "      <td>Royal Challengers Bangalore</td>\n",
       "      <td>BB McCullum</td>\n",
       "      <td>Z Khan</td>\n",
       "      <td>3</td>\n",
       "      <td>0</td>\n",
       "      <td>1.1</td>\n",
       "      <td>3</td>\n",
       "      <td>0</td>\n",
       "      <td>0</td>\n",
       "      <td>0</td>\n",
       "      <td>222</td>\n",
       "    </tr>\n",
       "    <tr>\n",
       "      <th>8</th>\n",
       "      <td>1</td>\n",
       "      <td>2008-04-18</td>\n",
       "      <td>M Chinnaswamy Stadium</td>\n",
       "      <td>Kolkata Knight Riders</td>\n",
       "      <td>Royal Challengers Bangalore</td>\n",
       "      <td>BB McCullum</td>\n",
       "      <td>Z Khan</td>\n",
       "      <td>7</td>\n",
       "      <td>0</td>\n",
       "      <td>1.2</td>\n",
       "      <td>7</td>\n",
       "      <td>0</td>\n",
       "      <td>4</td>\n",
       "      <td>0</td>\n",
       "      <td>222</td>\n",
       "    </tr>\n",
       "    <tr>\n",
       "      <th>9</th>\n",
       "      <td>1</td>\n",
       "      <td>2008-04-18</td>\n",
       "      <td>M Chinnaswamy Stadium</td>\n",
       "      <td>Kolkata Knight Riders</td>\n",
       "      <td>Royal Challengers Bangalore</td>\n",
       "      <td>BB McCullum</td>\n",
       "      <td>Z Khan</td>\n",
       "      <td>11</td>\n",
       "      <td>0</td>\n",
       "      <td>1.3</td>\n",
       "      <td>11</td>\n",
       "      <td>0</td>\n",
       "      <td>8</td>\n",
       "      <td>0</td>\n",
       "      <td>222</td>\n",
       "    </tr>\n",
       "  </tbody>\n",
       "</table>\n",
       "</div>"
      ],
      "text/plain": [
       "   mid        date                  venue               bat_team  \\\n",
       "0    1  2008-04-18  M Chinnaswamy Stadium  Kolkata Knight Riders   \n",
       "1    1  2008-04-18  M Chinnaswamy Stadium  Kolkata Knight Riders   \n",
       "2    1  2008-04-18  M Chinnaswamy Stadium  Kolkata Knight Riders   \n",
       "3    1  2008-04-18  M Chinnaswamy Stadium  Kolkata Knight Riders   \n",
       "4    1  2008-04-18  M Chinnaswamy Stadium  Kolkata Knight Riders   \n",
       "5    1  2008-04-18  M Chinnaswamy Stadium  Kolkata Knight Riders   \n",
       "6    1  2008-04-18  M Chinnaswamy Stadium  Kolkata Knight Riders   \n",
       "7    1  2008-04-18  M Chinnaswamy Stadium  Kolkata Knight Riders   \n",
       "8    1  2008-04-18  M Chinnaswamy Stadium  Kolkata Knight Riders   \n",
       "9    1  2008-04-18  M Chinnaswamy Stadium  Kolkata Knight Riders   \n",
       "\n",
       "                     bowl_team      batsman   bowler  runs  wickets  overs  \\\n",
       "0  Royal Challengers Bangalore   SC Ganguly  P Kumar     1        0    0.1   \n",
       "1  Royal Challengers Bangalore  BB McCullum  P Kumar     1        0    0.2   \n",
       "2  Royal Challengers Bangalore  BB McCullum  P Kumar     2        0    0.2   \n",
       "3  Royal Challengers Bangalore  BB McCullum  P Kumar     2        0    0.3   \n",
       "4  Royal Challengers Bangalore  BB McCullum  P Kumar     2        0    0.4   \n",
       "5  Royal Challengers Bangalore  BB McCullum  P Kumar     2        0    0.5   \n",
       "6  Royal Challengers Bangalore  BB McCullum  P Kumar     3        0    0.6   \n",
       "7  Royal Challengers Bangalore  BB McCullum   Z Khan     3        0    1.1   \n",
       "8  Royal Challengers Bangalore  BB McCullum   Z Khan     7        0    1.2   \n",
       "9  Royal Challengers Bangalore  BB McCullum   Z Khan    11        0    1.3   \n",
       "\n",
       "   runs_last_5  wickets_last_5  striker  non-striker  total  \n",
       "0            1               0        0            0    222  \n",
       "1            1               0        0            0    222  \n",
       "2            2               0        0            0    222  \n",
       "3            2               0        0            0    222  \n",
       "4            2               0        0            0    222  \n",
       "5            2               0        0            0    222  \n",
       "6            3               0        0            0    222  \n",
       "7            3               0        0            0    222  \n",
       "8            7               0        4            0    222  \n",
       "9           11               0        8            0    222  "
      ]
     },
     "execution_count": 3,
     "metadata": {},
     "output_type": "execute_result"
    }
   ],
   "source": [
    "#Showing the starting 10 rows\n",
    "ipl_df.head(10)"
   ]
  },
  {
   "cell_type": "code",
   "execution_count": 4,
   "metadata": {},
   "outputs": [
    {
     "data": {
      "text/html": [
       "<div>\n",
       "<style scoped>\n",
       "    .dataframe tbody tr th:only-of-type {\n",
       "        vertical-align: middle;\n",
       "    }\n",
       "\n",
       "    .dataframe tbody tr th {\n",
       "        vertical-align: top;\n",
       "    }\n",
       "\n",
       "    .dataframe thead th {\n",
       "        text-align: right;\n",
       "    }\n",
       "</style>\n",
       "<table border=\"1\" class=\"dataframe\">\n",
       "  <thead>\n",
       "    <tr style=\"text-align: right;\">\n",
       "      <th></th>\n",
       "      <th>mid</th>\n",
       "      <th>date</th>\n",
       "      <th>venue</th>\n",
       "      <th>bat_team</th>\n",
       "      <th>bowl_team</th>\n",
       "      <th>batsman</th>\n",
       "      <th>bowler</th>\n",
       "      <th>runs</th>\n",
       "      <th>wickets</th>\n",
       "      <th>overs</th>\n",
       "      <th>runs_last_5</th>\n",
       "      <th>wickets_last_5</th>\n",
       "      <th>striker</th>\n",
       "      <th>non-striker</th>\n",
       "      <th>total</th>\n",
       "    </tr>\n",
       "  </thead>\n",
       "  <tbody>\n",
       "    <tr>\n",
       "      <th>76004</th>\n",
       "      <td>617</td>\n",
       "      <td>2017-05-21</td>\n",
       "      <td>Rajiv Gandhi International Stadium, Uppal</td>\n",
       "      <td>Mumbai Indians</td>\n",
       "      <td>Rising Pune Supergiant</td>\n",
       "      <td>KH Pandya</td>\n",
       "      <td>JD Unadkat</td>\n",
       "      <td>114</td>\n",
       "      <td>7</td>\n",
       "      <td>18.5</td>\n",
       "      <td>36</td>\n",
       "      <td>1</td>\n",
       "      <td>35</td>\n",
       "      <td>12</td>\n",
       "      <td>129</td>\n",
       "    </tr>\n",
       "    <tr>\n",
       "      <th>76005</th>\n",
       "      <td>617</td>\n",
       "      <td>2017-05-21</td>\n",
       "      <td>Rajiv Gandhi International Stadium, Uppal</td>\n",
       "      <td>Mumbai Indians</td>\n",
       "      <td>Rising Pune Supergiant</td>\n",
       "      <td>KH Pandya</td>\n",
       "      <td>JD Unadkat</td>\n",
       "      <td>115</td>\n",
       "      <td>7</td>\n",
       "      <td>18.6</td>\n",
       "      <td>36</td>\n",
       "      <td>1</td>\n",
       "      <td>36</td>\n",
       "      <td>12</td>\n",
       "      <td>129</td>\n",
       "    </tr>\n",
       "    <tr>\n",
       "      <th>76006</th>\n",
       "      <td>617</td>\n",
       "      <td>2017-05-21</td>\n",
       "      <td>Rajiv Gandhi International Stadium, Uppal</td>\n",
       "      <td>Mumbai Indians</td>\n",
       "      <td>Rising Pune Supergiant</td>\n",
       "      <td>KH Pandya</td>\n",
       "      <td>DT Christian</td>\n",
       "      <td>116</td>\n",
       "      <td>7</td>\n",
       "      <td>19.0</td>\n",
       "      <td>37</td>\n",
       "      <td>0</td>\n",
       "      <td>36</td>\n",
       "      <td>12</td>\n",
       "      <td>129</td>\n",
       "    </tr>\n",
       "    <tr>\n",
       "      <th>76007</th>\n",
       "      <td>617</td>\n",
       "      <td>2017-05-21</td>\n",
       "      <td>Rajiv Gandhi International Stadium, Uppal</td>\n",
       "      <td>Mumbai Indians</td>\n",
       "      <td>Rising Pune Supergiant</td>\n",
       "      <td>KH Pandya</td>\n",
       "      <td>DT Christian</td>\n",
       "      <td>116</td>\n",
       "      <td>7</td>\n",
       "      <td>19.1</td>\n",
       "      <td>37</td>\n",
       "      <td>0</td>\n",
       "      <td>36</td>\n",
       "      <td>12</td>\n",
       "      <td>129</td>\n",
       "    </tr>\n",
       "    <tr>\n",
       "      <th>76008</th>\n",
       "      <td>617</td>\n",
       "      <td>2017-05-21</td>\n",
       "      <td>Rajiv Gandhi International Stadium, Uppal</td>\n",
       "      <td>Mumbai Indians</td>\n",
       "      <td>Rising Pune Supergiant</td>\n",
       "      <td>KH Pandya</td>\n",
       "      <td>DT Christian</td>\n",
       "      <td>120</td>\n",
       "      <td>7</td>\n",
       "      <td>19.2</td>\n",
       "      <td>40</td>\n",
       "      <td>0</td>\n",
       "      <td>40</td>\n",
       "      <td>12</td>\n",
       "      <td>129</td>\n",
       "    </tr>\n",
       "    <tr>\n",
       "      <th>76009</th>\n",
       "      <td>617</td>\n",
       "      <td>2017-05-21</td>\n",
       "      <td>Rajiv Gandhi International Stadium, Uppal</td>\n",
       "      <td>Mumbai Indians</td>\n",
       "      <td>Rising Pune Supergiant</td>\n",
       "      <td>KH Pandya</td>\n",
       "      <td>DT Christian</td>\n",
       "      <td>121</td>\n",
       "      <td>7</td>\n",
       "      <td>19.2</td>\n",
       "      <td>40</td>\n",
       "      <td>0</td>\n",
       "      <td>40</td>\n",
       "      <td>12</td>\n",
       "      <td>129</td>\n",
       "    </tr>\n",
       "    <tr>\n",
       "      <th>76010</th>\n",
       "      <td>617</td>\n",
       "      <td>2017-05-21</td>\n",
       "      <td>Rajiv Gandhi International Stadium, Uppal</td>\n",
       "      <td>Mumbai Indians</td>\n",
       "      <td>Rising Pune Supergiant</td>\n",
       "      <td>KH Pandya</td>\n",
       "      <td>DT Christian</td>\n",
       "      <td>127</td>\n",
       "      <td>7</td>\n",
       "      <td>19.3</td>\n",
       "      <td>46</td>\n",
       "      <td>0</td>\n",
       "      <td>46</td>\n",
       "      <td>12</td>\n",
       "      <td>129</td>\n",
       "    </tr>\n",
       "    <tr>\n",
       "      <th>76011</th>\n",
       "      <td>617</td>\n",
       "      <td>2017-05-21</td>\n",
       "      <td>Rajiv Gandhi International Stadium, Uppal</td>\n",
       "      <td>Mumbai Indians</td>\n",
       "      <td>Rising Pune Supergiant</td>\n",
       "      <td>KH Pandya</td>\n",
       "      <td>DT Christian</td>\n",
       "      <td>128</td>\n",
       "      <td>7</td>\n",
       "      <td>19.4</td>\n",
       "      <td>47</td>\n",
       "      <td>0</td>\n",
       "      <td>47</td>\n",
       "      <td>12</td>\n",
       "      <td>129</td>\n",
       "    </tr>\n",
       "    <tr>\n",
       "      <th>76012</th>\n",
       "      <td>617</td>\n",
       "      <td>2017-05-21</td>\n",
       "      <td>Rajiv Gandhi International Stadium, Uppal</td>\n",
       "      <td>Mumbai Indians</td>\n",
       "      <td>Rising Pune Supergiant</td>\n",
       "      <td>MG Johnson</td>\n",
       "      <td>DT Christian</td>\n",
       "      <td>129</td>\n",
       "      <td>7</td>\n",
       "      <td>19.5</td>\n",
       "      <td>48</td>\n",
       "      <td>0</td>\n",
       "      <td>47</td>\n",
       "      <td>13</td>\n",
       "      <td>129</td>\n",
       "    </tr>\n",
       "    <tr>\n",
       "      <th>76013</th>\n",
       "      <td>617</td>\n",
       "      <td>2017-05-21</td>\n",
       "      <td>Rajiv Gandhi International Stadium, Uppal</td>\n",
       "      <td>Mumbai Indians</td>\n",
       "      <td>Rising Pune Supergiant</td>\n",
       "      <td>KH Pandya</td>\n",
       "      <td>DT Christian</td>\n",
       "      <td>129</td>\n",
       "      <td>8</td>\n",
       "      <td>19.6</td>\n",
       "      <td>47</td>\n",
       "      <td>1</td>\n",
       "      <td>47</td>\n",
       "      <td>13</td>\n",
       "      <td>129</td>\n",
       "    </tr>\n",
       "  </tbody>\n",
       "</table>\n",
       "</div>"
      ],
      "text/plain": [
       "       mid        date                                      venue  \\\n",
       "76004  617  2017-05-21  Rajiv Gandhi International Stadium, Uppal   \n",
       "76005  617  2017-05-21  Rajiv Gandhi International Stadium, Uppal   \n",
       "76006  617  2017-05-21  Rajiv Gandhi International Stadium, Uppal   \n",
       "76007  617  2017-05-21  Rajiv Gandhi International Stadium, Uppal   \n",
       "76008  617  2017-05-21  Rajiv Gandhi International Stadium, Uppal   \n",
       "76009  617  2017-05-21  Rajiv Gandhi International Stadium, Uppal   \n",
       "76010  617  2017-05-21  Rajiv Gandhi International Stadium, Uppal   \n",
       "76011  617  2017-05-21  Rajiv Gandhi International Stadium, Uppal   \n",
       "76012  617  2017-05-21  Rajiv Gandhi International Stadium, Uppal   \n",
       "76013  617  2017-05-21  Rajiv Gandhi International Stadium, Uppal   \n",
       "\n",
       "             bat_team               bowl_team     batsman        bowler  runs  \\\n",
       "76004  Mumbai Indians  Rising Pune Supergiant   KH Pandya    JD Unadkat   114   \n",
       "76005  Mumbai Indians  Rising Pune Supergiant   KH Pandya    JD Unadkat   115   \n",
       "76006  Mumbai Indians  Rising Pune Supergiant   KH Pandya  DT Christian   116   \n",
       "76007  Mumbai Indians  Rising Pune Supergiant   KH Pandya  DT Christian   116   \n",
       "76008  Mumbai Indians  Rising Pune Supergiant   KH Pandya  DT Christian   120   \n",
       "76009  Mumbai Indians  Rising Pune Supergiant   KH Pandya  DT Christian   121   \n",
       "76010  Mumbai Indians  Rising Pune Supergiant   KH Pandya  DT Christian   127   \n",
       "76011  Mumbai Indians  Rising Pune Supergiant   KH Pandya  DT Christian   128   \n",
       "76012  Mumbai Indians  Rising Pune Supergiant  MG Johnson  DT Christian   129   \n",
       "76013  Mumbai Indians  Rising Pune Supergiant   KH Pandya  DT Christian   129   \n",
       "\n",
       "       wickets  overs  runs_last_5  wickets_last_5  striker  non-striker  \\\n",
       "76004        7   18.5           36               1       35           12   \n",
       "76005        7   18.6           36               1       36           12   \n",
       "76006        7   19.0           37               0       36           12   \n",
       "76007        7   19.1           37               0       36           12   \n",
       "76008        7   19.2           40               0       40           12   \n",
       "76009        7   19.2           40               0       40           12   \n",
       "76010        7   19.3           46               0       46           12   \n",
       "76011        7   19.4           47               0       47           12   \n",
       "76012        7   19.5           48               0       47           13   \n",
       "76013        8   19.6           47               1       47           13   \n",
       "\n",
       "       total  \n",
       "76004    129  \n",
       "76005    129  \n",
       "76006    129  \n",
       "76007    129  \n",
       "76008    129  \n",
       "76009    129  \n",
       "76010    129  \n",
       "76011    129  \n",
       "76012    129  \n",
       "76013    129  "
      ]
     },
     "execution_count": 4,
     "metadata": {},
     "output_type": "execute_result"
    }
   ],
   "source": [
    "#Showing the Ending 10 rows of dataset\n",
    "ipl_df.tail(10)\n"
   ]
  },
  {
   "cell_type": "markdown",
   "metadata": {},
   "source": [
    "**Data Cleaning**"
   ]
  },
  {
   "cell_type": "code",
   "execution_count": 5,
   "metadata": {},
   "outputs": [],
   "source": [
    "#Removing the unwanted columns\n",
    "columns_to_remove  = ['mid','batsman','bowler','striker','non-striker']\n",
    "ipl_df.drop(labels=columns_to_remove,axis=1,inplace=True)"
   ]
  },
  {
   "cell_type": "code",
   "execution_count": 6,
   "metadata": {},
   "outputs": [
    {
     "data": {
      "text/html": [
       "<div>\n",
       "<style scoped>\n",
       "    .dataframe tbody tr th:only-of-type {\n",
       "        vertical-align: middle;\n",
       "    }\n",
       "\n",
       "    .dataframe tbody tr th {\n",
       "        vertical-align: top;\n",
       "    }\n",
       "\n",
       "    .dataframe thead th {\n",
       "        text-align: right;\n",
       "    }\n",
       "</style>\n",
       "<table border=\"1\" class=\"dataframe\">\n",
       "  <thead>\n",
       "    <tr style=\"text-align: right;\">\n",
       "      <th></th>\n",
       "      <th>date</th>\n",
       "      <th>venue</th>\n",
       "      <th>bat_team</th>\n",
       "      <th>bowl_team</th>\n",
       "      <th>runs</th>\n",
       "      <th>wickets</th>\n",
       "      <th>overs</th>\n",
       "      <th>runs_last_5</th>\n",
       "      <th>wickets_last_5</th>\n",
       "      <th>total</th>\n",
       "    </tr>\n",
       "  </thead>\n",
       "  <tbody>\n",
       "    <tr>\n",
       "      <th>0</th>\n",
       "      <td>2008-04-18</td>\n",
       "      <td>M Chinnaswamy Stadium</td>\n",
       "      <td>Kolkata Knight Riders</td>\n",
       "      <td>Royal Challengers Bangalore</td>\n",
       "      <td>1</td>\n",
       "      <td>0</td>\n",
       "      <td>0.1</td>\n",
       "      <td>1</td>\n",
       "      <td>0</td>\n",
       "      <td>222</td>\n",
       "    </tr>\n",
       "    <tr>\n",
       "      <th>1</th>\n",
       "      <td>2008-04-18</td>\n",
       "      <td>M Chinnaswamy Stadium</td>\n",
       "      <td>Kolkata Knight Riders</td>\n",
       "      <td>Royal Challengers Bangalore</td>\n",
       "      <td>1</td>\n",
       "      <td>0</td>\n",
       "      <td>0.2</td>\n",
       "      <td>1</td>\n",
       "      <td>0</td>\n",
       "      <td>222</td>\n",
       "    </tr>\n",
       "    <tr>\n",
       "      <th>2</th>\n",
       "      <td>2008-04-18</td>\n",
       "      <td>M Chinnaswamy Stadium</td>\n",
       "      <td>Kolkata Knight Riders</td>\n",
       "      <td>Royal Challengers Bangalore</td>\n",
       "      <td>2</td>\n",
       "      <td>0</td>\n",
       "      <td>0.2</td>\n",
       "      <td>2</td>\n",
       "      <td>0</td>\n",
       "      <td>222</td>\n",
       "    </tr>\n",
       "    <tr>\n",
       "      <th>3</th>\n",
       "      <td>2008-04-18</td>\n",
       "      <td>M Chinnaswamy Stadium</td>\n",
       "      <td>Kolkata Knight Riders</td>\n",
       "      <td>Royal Challengers Bangalore</td>\n",
       "      <td>2</td>\n",
       "      <td>0</td>\n",
       "      <td>0.3</td>\n",
       "      <td>2</td>\n",
       "      <td>0</td>\n",
       "      <td>222</td>\n",
       "    </tr>\n",
       "    <tr>\n",
       "      <th>4</th>\n",
       "      <td>2008-04-18</td>\n",
       "      <td>M Chinnaswamy Stadium</td>\n",
       "      <td>Kolkata Knight Riders</td>\n",
       "      <td>Royal Challengers Bangalore</td>\n",
       "      <td>2</td>\n",
       "      <td>0</td>\n",
       "      <td>0.4</td>\n",
       "      <td>2</td>\n",
       "      <td>0</td>\n",
       "      <td>222</td>\n",
       "    </tr>\n",
       "  </tbody>\n",
       "</table>\n",
       "</div>"
      ],
      "text/plain": [
       "         date                  venue               bat_team  \\\n",
       "0  2008-04-18  M Chinnaswamy Stadium  Kolkata Knight Riders   \n",
       "1  2008-04-18  M Chinnaswamy Stadium  Kolkata Knight Riders   \n",
       "2  2008-04-18  M Chinnaswamy Stadium  Kolkata Knight Riders   \n",
       "3  2008-04-18  M Chinnaswamy Stadium  Kolkata Knight Riders   \n",
       "4  2008-04-18  M Chinnaswamy Stadium  Kolkata Knight Riders   \n",
       "\n",
       "                     bowl_team  runs  wickets  overs  runs_last_5  \\\n",
       "0  Royal Challengers Bangalore     1        0    0.1            1   \n",
       "1  Royal Challengers Bangalore     1        0    0.2            1   \n",
       "2  Royal Challengers Bangalore     2        0    0.2            2   \n",
       "3  Royal Challengers Bangalore     2        0    0.3            2   \n",
       "4  Royal Challengers Bangalore     2        0    0.4            2   \n",
       "\n",
       "   wickets_last_5  total  \n",
       "0               0    222  \n",
       "1               0    222  \n",
       "2               0    222  \n",
       "3               0    222  \n",
       "4               0    222  "
      ]
     },
     "execution_count": 6,
     "metadata": {},
     "output_type": "execute_result"
    }
   ],
   "source": [
    "ipl_df.head()"
   ]
  },
  {
   "cell_type": "code",
   "execution_count": 7,
   "metadata": {},
   "outputs": [
    {
     "data": {
      "text/plain": [
       "array(['Kolkata Knight Riders', 'Chennai Super Kings', 'Rajasthan Royals',\n",
       "       'Mumbai Indians', 'Deccan Chargers', 'Kings XI Punjab',\n",
       "       'Royal Challengers Bangalore', 'Delhi Daredevils',\n",
       "       'Kochi Tuskers Kerala', 'Pune Warriors', 'Sunrisers Hyderabad',\n",
       "       'Rising Pune Supergiants', 'Gujarat Lions',\n",
       "       'Rising Pune Supergiant'], dtype=object)"
      ]
     },
     "execution_count": 7,
     "metadata": {},
     "output_type": "execute_result"
    }
   ],
   "source": [
    "ipl_df['bat_team'].unique()"
   ]
  },
  {
   "cell_type": "code",
   "execution_count": 8,
   "metadata": {},
   "outputs": [
    {
     "data": {
      "text/plain": [
       "35"
      ]
     },
     "execution_count": 8,
     "metadata": {},
     "output_type": "execute_result"
    }
   ],
   "source": [
    "len(ipl_df['venue'].unique())"
   ]
  },
  {
   "cell_type": "code",
   "execution_count": 9,
   "metadata": {},
   "outputs": [],
   "source": [
    "#keeping only consistent teams\n",
    "consistent_teams = ['Kolkata Knight Riders', 'Chennai Super Kings', 'Rajasthan Royals',\n",
    "                    'Mumbai Indians', 'Kings XI Punjab', 'Royal Challengers Bangalore',\n",
    "                    'Delhi Daredevils', 'Sunrisers Hyderabad'] "
   ]
  },
  {
   "cell_type": "code",
   "execution_count": 10,
   "metadata": {},
   "outputs": [],
   "source": [
    "top_10 = [x for x in ipl_df.venue.value_counts().sort_values(ascending=False).head(10).index]\n",
    "ipl_df = ipl_df[ipl_df['venue'].isin(top_10)]"
   ]
  },
  {
   "cell_type": "code",
   "execution_count": 11,
   "metadata": {},
   "outputs": [],
   "source": [
    "ipl_df = ipl_df[(ipl_df['bat_team'].isin(consistent_teams)) & (ipl_df['bowl_team'].isin(consistent_teams))]"
   ]
  },
  {
   "cell_type": "code",
   "execution_count": 12,
   "metadata": {},
   "outputs": [],
   "source": [
    "#Removing the first 5 overs as we required for prediction purpose\n",
    "ipl_df = ipl_df[ipl_df['overs']>=5.0]"
   ]
  },
  {
   "cell_type": "code",
   "execution_count": 13,
   "metadata": {},
   "outputs": [
    {
     "data": {
      "text/html": [
       "<div>\n",
       "<style scoped>\n",
       "    .dataframe tbody tr th:only-of-type {\n",
       "        vertical-align: middle;\n",
       "    }\n",
       "\n",
       "    .dataframe tbody tr th {\n",
       "        vertical-align: top;\n",
       "    }\n",
       "\n",
       "    .dataframe thead th {\n",
       "        text-align: right;\n",
       "    }\n",
       "</style>\n",
       "<table border=\"1\" class=\"dataframe\">\n",
       "  <thead>\n",
       "    <tr style=\"text-align: right;\">\n",
       "      <th></th>\n",
       "      <th>date</th>\n",
       "      <th>venue</th>\n",
       "      <th>bat_team</th>\n",
       "      <th>bowl_team</th>\n",
       "      <th>runs</th>\n",
       "      <th>wickets</th>\n",
       "      <th>overs</th>\n",
       "      <th>runs_last_5</th>\n",
       "      <th>wickets_last_5</th>\n",
       "      <th>total</th>\n",
       "    </tr>\n",
       "  </thead>\n",
       "  <tbody>\n",
       "    <tr>\n",
       "      <th>32</th>\n",
       "      <td>2008-04-18</td>\n",
       "      <td>M Chinnaswamy Stadium</td>\n",
       "      <td>Kolkata Knight Riders</td>\n",
       "      <td>Royal Challengers Bangalore</td>\n",
       "      <td>61</td>\n",
       "      <td>0</td>\n",
       "      <td>5.1</td>\n",
       "      <td>59</td>\n",
       "      <td>0</td>\n",
       "      <td>222</td>\n",
       "    </tr>\n",
       "    <tr>\n",
       "      <th>33</th>\n",
       "      <td>2008-04-18</td>\n",
       "      <td>M Chinnaswamy Stadium</td>\n",
       "      <td>Kolkata Knight Riders</td>\n",
       "      <td>Royal Challengers Bangalore</td>\n",
       "      <td>61</td>\n",
       "      <td>1</td>\n",
       "      <td>5.2</td>\n",
       "      <td>59</td>\n",
       "      <td>1</td>\n",
       "      <td>222</td>\n",
       "    </tr>\n",
       "    <tr>\n",
       "      <th>34</th>\n",
       "      <td>2008-04-18</td>\n",
       "      <td>M Chinnaswamy Stadium</td>\n",
       "      <td>Kolkata Knight Riders</td>\n",
       "      <td>Royal Challengers Bangalore</td>\n",
       "      <td>61</td>\n",
       "      <td>1</td>\n",
       "      <td>5.3</td>\n",
       "      <td>59</td>\n",
       "      <td>1</td>\n",
       "      <td>222</td>\n",
       "    </tr>\n",
       "    <tr>\n",
       "      <th>35</th>\n",
       "      <td>2008-04-18</td>\n",
       "      <td>M Chinnaswamy Stadium</td>\n",
       "      <td>Kolkata Knight Riders</td>\n",
       "      <td>Royal Challengers Bangalore</td>\n",
       "      <td>61</td>\n",
       "      <td>1</td>\n",
       "      <td>5.4</td>\n",
       "      <td>59</td>\n",
       "      <td>1</td>\n",
       "      <td>222</td>\n",
       "    </tr>\n",
       "    <tr>\n",
       "      <th>36</th>\n",
       "      <td>2008-04-18</td>\n",
       "      <td>M Chinnaswamy Stadium</td>\n",
       "      <td>Kolkata Knight Riders</td>\n",
       "      <td>Royal Challengers Bangalore</td>\n",
       "      <td>61</td>\n",
       "      <td>1</td>\n",
       "      <td>5.5</td>\n",
       "      <td>58</td>\n",
       "      <td>1</td>\n",
       "      <td>222</td>\n",
       "    </tr>\n",
       "  </tbody>\n",
       "</table>\n",
       "</div>"
      ],
      "text/plain": [
       "          date                  venue               bat_team  \\\n",
       "32  2008-04-18  M Chinnaswamy Stadium  Kolkata Knight Riders   \n",
       "33  2008-04-18  M Chinnaswamy Stadium  Kolkata Knight Riders   \n",
       "34  2008-04-18  M Chinnaswamy Stadium  Kolkata Knight Riders   \n",
       "35  2008-04-18  M Chinnaswamy Stadium  Kolkata Knight Riders   \n",
       "36  2008-04-18  M Chinnaswamy Stadium  Kolkata Knight Riders   \n",
       "\n",
       "                      bowl_team  runs  wickets  overs  runs_last_5  \\\n",
       "32  Royal Challengers Bangalore    61        0    5.1           59   \n",
       "33  Royal Challengers Bangalore    61        1    5.2           59   \n",
       "34  Royal Challengers Bangalore    61        1    5.3           59   \n",
       "35  Royal Challengers Bangalore    61        1    5.4           59   \n",
       "36  Royal Challengers Bangalore    61        1    5.5           58   \n",
       "\n",
       "    wickets_last_5  total  \n",
       "32               0    222  \n",
       "33               1    222  \n",
       "34               1    222  \n",
       "35               1    222  \n",
       "36               1    222  "
      ]
     },
     "execution_count": 13,
     "metadata": {},
     "output_type": "execute_result"
    }
   ],
   "source": [
    "ipl_df.head()"
   ]
  },
  {
   "cell_type": "code",
   "execution_count": 14,
   "metadata": {},
   "outputs": [
    {
     "data": {
      "text/plain": [
       "array(['Kolkata Knight Riders', 'Chennai Super Kings', 'Rajasthan Royals',\n",
       "       'Mumbai Indians', 'Kings XI Punjab', 'Royal Challengers Bangalore',\n",
       "       'Delhi Daredevils', 'Sunrisers Hyderabad'], dtype=object)"
      ]
     },
     "execution_count": 14,
     "metadata": {},
     "output_type": "execute_result"
    }
   ],
   "source": [
    "ipl_df['bat_team'].unique()"
   ]
  },
  {
   "cell_type": "code",
   "execution_count": 15,
   "metadata": {},
   "outputs": [
    {
     "data": {
      "text/plain": [
       "array(['Royal Challengers Bangalore', 'Kings XI Punjab',\n",
       "       'Delhi Daredevils', 'Rajasthan Royals', 'Mumbai Indians',\n",
       "       'Chennai Super Kings', 'Kolkata Knight Riders',\n",
       "       'Sunrisers Hyderabad'], dtype=object)"
      ]
     },
     "execution_count": 15,
     "metadata": {},
     "output_type": "execute_result"
    }
   ],
   "source": [
    "ipl_df['bowl_team'].unique()"
   ]
  },
  {
   "cell_type": "code",
   "execution_count": 16,
   "metadata": {},
   "outputs": [
    {
     "data": {
      "text/plain": [
       "date               object\n",
       "venue              object\n",
       "bat_team           object\n",
       "bowl_team          object\n",
       "runs                int64\n",
       "wickets             int64\n",
       "overs             float64\n",
       "runs_last_5         int64\n",
       "wickets_last_5      int64\n",
       "total               int64\n",
       "dtype: object"
      ]
     },
     "execution_count": 16,
     "metadata": {},
     "output_type": "execute_result"
    }
   ],
   "source": [
    "ipl_df.dtypes"
   ]
  },
  {
   "cell_type": "markdown",
   "metadata": {},
   "source": [
    "**Converting the column 'date' from string into datetime object**"
   ]
  },
  {
   "cell_type": "code",
   "execution_count": 17,
   "metadata": {},
   "outputs": [],
   "source": [
    "ipl_df['date'] = ipl_df['date'].apply(lambda x : datetime.strptime(x,'%Y-%m-%d'))"
   ]
  },
  {
   "cell_type": "markdown",
   "metadata": {},
   "source": [
    "## Data preprocessing"
   ]
  },
  {
   "cell_type": "code",
   "execution_count": 18,
   "metadata": {},
   "outputs": [],
   "source": [
    "# Converting categorical features using OneHotEncoding method\n",
    "encoded_df = pd.get_dummies(data=ipl_df,columns=['bat_team','bowl_team','venue'])"
   ]
  },
  {
   "cell_type": "code",
   "execution_count": 19,
   "metadata": {},
   "outputs": [
    {
     "data": {
      "text/html": [
       "<div>\n",
       "<style scoped>\n",
       "    .dataframe tbody tr th:only-of-type {\n",
       "        vertical-align: middle;\n",
       "    }\n",
       "\n",
       "    .dataframe tbody tr th {\n",
       "        vertical-align: top;\n",
       "    }\n",
       "\n",
       "    .dataframe thead th {\n",
       "        text-align: right;\n",
       "    }\n",
       "</style>\n",
       "<table border=\"1\" class=\"dataframe\">\n",
       "  <thead>\n",
       "    <tr style=\"text-align: right;\">\n",
       "      <th></th>\n",
       "      <th>date</th>\n",
       "      <th>runs</th>\n",
       "      <th>wickets</th>\n",
       "      <th>overs</th>\n",
       "      <th>runs_last_5</th>\n",
       "      <th>wickets_last_5</th>\n",
       "      <th>total</th>\n",
       "      <th>bat_team_Chennai Super Kings</th>\n",
       "      <th>bat_team_Delhi Daredevils</th>\n",
       "      <th>bat_team_Kings XI Punjab</th>\n",
       "      <th>...</th>\n",
       "      <th>venue_Dr DY Patil Sports Academy</th>\n",
       "      <th>venue_Eden Gardens</th>\n",
       "      <th>venue_Feroz Shah Kotla</th>\n",
       "      <th>venue_M Chinnaswamy Stadium</th>\n",
       "      <th>venue_MA Chidambaram Stadium, Chepauk</th>\n",
       "      <th>venue_Punjab Cricket Association Stadium, Mohali</th>\n",
       "      <th>venue_Rajiv Gandhi International Stadium, Uppal</th>\n",
       "      <th>venue_Sawai Mansingh Stadium</th>\n",
       "      <th>venue_Subrata Roy Sahara Stadium</th>\n",
       "      <th>venue_Wankhede Stadium</th>\n",
       "    </tr>\n",
       "  </thead>\n",
       "  <tbody>\n",
       "    <tr>\n",
       "      <th>32</th>\n",
       "      <td>2008-04-18</td>\n",
       "      <td>61</td>\n",
       "      <td>0</td>\n",
       "      <td>5.1</td>\n",
       "      <td>59</td>\n",
       "      <td>0</td>\n",
       "      <td>222</td>\n",
       "      <td>0</td>\n",
       "      <td>0</td>\n",
       "      <td>0</td>\n",
       "      <td>...</td>\n",
       "      <td>0</td>\n",
       "      <td>0</td>\n",
       "      <td>0</td>\n",
       "      <td>1</td>\n",
       "      <td>0</td>\n",
       "      <td>0</td>\n",
       "      <td>0</td>\n",
       "      <td>0</td>\n",
       "      <td>0</td>\n",
       "      <td>0</td>\n",
       "    </tr>\n",
       "    <tr>\n",
       "      <th>33</th>\n",
       "      <td>2008-04-18</td>\n",
       "      <td>61</td>\n",
       "      <td>1</td>\n",
       "      <td>5.2</td>\n",
       "      <td>59</td>\n",
       "      <td>1</td>\n",
       "      <td>222</td>\n",
       "      <td>0</td>\n",
       "      <td>0</td>\n",
       "      <td>0</td>\n",
       "      <td>...</td>\n",
       "      <td>0</td>\n",
       "      <td>0</td>\n",
       "      <td>0</td>\n",
       "      <td>1</td>\n",
       "      <td>0</td>\n",
       "      <td>0</td>\n",
       "      <td>0</td>\n",
       "      <td>0</td>\n",
       "      <td>0</td>\n",
       "      <td>0</td>\n",
       "    </tr>\n",
       "    <tr>\n",
       "      <th>34</th>\n",
       "      <td>2008-04-18</td>\n",
       "      <td>61</td>\n",
       "      <td>1</td>\n",
       "      <td>5.3</td>\n",
       "      <td>59</td>\n",
       "      <td>1</td>\n",
       "      <td>222</td>\n",
       "      <td>0</td>\n",
       "      <td>0</td>\n",
       "      <td>0</td>\n",
       "      <td>...</td>\n",
       "      <td>0</td>\n",
       "      <td>0</td>\n",
       "      <td>0</td>\n",
       "      <td>1</td>\n",
       "      <td>0</td>\n",
       "      <td>0</td>\n",
       "      <td>0</td>\n",
       "      <td>0</td>\n",
       "      <td>0</td>\n",
       "      <td>0</td>\n",
       "    </tr>\n",
       "    <tr>\n",
       "      <th>35</th>\n",
       "      <td>2008-04-18</td>\n",
       "      <td>61</td>\n",
       "      <td>1</td>\n",
       "      <td>5.4</td>\n",
       "      <td>59</td>\n",
       "      <td>1</td>\n",
       "      <td>222</td>\n",
       "      <td>0</td>\n",
       "      <td>0</td>\n",
       "      <td>0</td>\n",
       "      <td>...</td>\n",
       "      <td>0</td>\n",
       "      <td>0</td>\n",
       "      <td>0</td>\n",
       "      <td>1</td>\n",
       "      <td>0</td>\n",
       "      <td>0</td>\n",
       "      <td>0</td>\n",
       "      <td>0</td>\n",
       "      <td>0</td>\n",
       "      <td>0</td>\n",
       "    </tr>\n",
       "    <tr>\n",
       "      <th>36</th>\n",
       "      <td>2008-04-18</td>\n",
       "      <td>61</td>\n",
       "      <td>1</td>\n",
       "      <td>5.5</td>\n",
       "      <td>58</td>\n",
       "      <td>1</td>\n",
       "      <td>222</td>\n",
       "      <td>0</td>\n",
       "      <td>0</td>\n",
       "      <td>0</td>\n",
       "      <td>...</td>\n",
       "      <td>0</td>\n",
       "      <td>0</td>\n",
       "      <td>0</td>\n",
       "      <td>1</td>\n",
       "      <td>0</td>\n",
       "      <td>0</td>\n",
       "      <td>0</td>\n",
       "      <td>0</td>\n",
       "      <td>0</td>\n",
       "      <td>0</td>\n",
       "    </tr>\n",
       "  </tbody>\n",
       "</table>\n",
       "<p>5 rows × 33 columns</p>\n",
       "</div>"
      ],
      "text/plain": [
       "         date  runs  wickets  overs  runs_last_5  wickets_last_5  total  \\\n",
       "32 2008-04-18    61        0    5.1           59               0    222   \n",
       "33 2008-04-18    61        1    5.2           59               1    222   \n",
       "34 2008-04-18    61        1    5.3           59               1    222   \n",
       "35 2008-04-18    61        1    5.4           59               1    222   \n",
       "36 2008-04-18    61        1    5.5           58               1    222   \n",
       "\n",
       "    bat_team_Chennai Super Kings  bat_team_Delhi Daredevils  \\\n",
       "32                             0                          0   \n",
       "33                             0                          0   \n",
       "34                             0                          0   \n",
       "35                             0                          0   \n",
       "36                             0                          0   \n",
       "\n",
       "    bat_team_Kings XI Punjab  ...  venue_Dr DY Patil Sports Academy  \\\n",
       "32                         0  ...                                 0   \n",
       "33                         0  ...                                 0   \n",
       "34                         0  ...                                 0   \n",
       "35                         0  ...                                 0   \n",
       "36                         0  ...                                 0   \n",
       "\n",
       "    venue_Eden Gardens  venue_Feroz Shah Kotla  venue_M Chinnaswamy Stadium  \\\n",
       "32                   0                       0                            1   \n",
       "33                   0                       0                            1   \n",
       "34                   0                       0                            1   \n",
       "35                   0                       0                            1   \n",
       "36                   0                       0                            1   \n",
       "\n",
       "    venue_MA Chidambaram Stadium, Chepauk  \\\n",
       "32                                      0   \n",
       "33                                      0   \n",
       "34                                      0   \n",
       "35                                      0   \n",
       "36                                      0   \n",
       "\n",
       "    venue_Punjab Cricket Association Stadium, Mohali  \\\n",
       "32                                                 0   \n",
       "33                                                 0   \n",
       "34                                                 0   \n",
       "35                                                 0   \n",
       "36                                                 0   \n",
       "\n",
       "    venue_Rajiv Gandhi International Stadium, Uppal  \\\n",
       "32                                                0   \n",
       "33                                                0   \n",
       "34                                                0   \n",
       "35                                                0   \n",
       "36                                                0   \n",
       "\n",
       "    venue_Sawai Mansingh Stadium  venue_Subrata Roy Sahara Stadium  \\\n",
       "32                             0                                 0   \n",
       "33                             0                                 0   \n",
       "34                             0                                 0   \n",
       "35                             0                                 0   \n",
       "36                             0                                 0   \n",
       "\n",
       "    venue_Wankhede Stadium  \n",
       "32                       0  \n",
       "33                       0  \n",
       "34                       0  \n",
       "35                       0  \n",
       "36                       0  \n",
       "\n",
       "[5 rows x 33 columns]"
      ]
     },
     "execution_count": 19,
     "metadata": {},
     "output_type": "execute_result"
    }
   ],
   "source": [
    "encoded_df.head()"
   ]
  },
  {
   "cell_type": "code",
   "execution_count": 20,
   "metadata": {},
   "outputs": [
    {
     "data": {
      "text/plain": [
       "Index(['date', 'runs', 'wickets', 'overs', 'runs_last_5', 'wickets_last_5',\n",
       "       'total', 'bat_team_Chennai Super Kings', 'bat_team_Delhi Daredevils',\n",
       "       'bat_team_Kings XI Punjab', 'bat_team_Kolkata Knight Riders',\n",
       "       'bat_team_Mumbai Indians', 'bat_team_Rajasthan Royals',\n",
       "       'bat_team_Royal Challengers Bangalore', 'bat_team_Sunrisers Hyderabad',\n",
       "       'bowl_team_Chennai Super Kings', 'bowl_team_Delhi Daredevils',\n",
       "       'bowl_team_Kings XI Punjab', 'bowl_team_Kolkata Knight Riders',\n",
       "       'bowl_team_Mumbai Indians', 'bowl_team_Rajasthan Royals',\n",
       "       'bowl_team_Royal Challengers Bangalore',\n",
       "       'bowl_team_Sunrisers Hyderabad', 'venue_Dr DY Patil Sports Academy',\n",
       "       'venue_Eden Gardens', 'venue_Feroz Shah Kotla',\n",
       "       'venue_M Chinnaswamy Stadium', 'venue_MA Chidambaram Stadium, Chepauk',\n",
       "       'venue_Punjab Cricket Association Stadium, Mohali',\n",
       "       'venue_Rajiv Gandhi International Stadium, Uppal',\n",
       "       'venue_Sawai Mansingh Stadium', 'venue_Subrata Roy Sahara Stadium',\n",
       "       'venue_Wankhede Stadium'],\n",
       "      dtype='object')"
      ]
     },
     "execution_count": 20,
     "metadata": {},
     "output_type": "execute_result"
    }
   ],
   "source": [
    "encoded_df.columns"
   ]
  },
  {
   "cell_type": "code",
   "execution_count": 21,
   "metadata": {},
   "outputs": [
    {
     "data": {
      "text/plain": [
       "(29145, 33)"
      ]
     },
     "execution_count": 21,
     "metadata": {},
     "output_type": "execute_result"
    }
   ],
   "source": [
    "encoded_df.shape"
   ]
  },
  {
   "cell_type": "code",
   "execution_count": 22,
   "metadata": {},
   "outputs": [],
   "source": [
    "inputs =  encoded_df.drop(['total'],axis=1)"
   ]
  },
  {
   "cell_type": "code",
   "execution_count": 23,
   "metadata": {},
   "outputs": [
    {
     "data": {
      "text/plain": [
       "(29145, 32)"
      ]
     },
     "execution_count": 23,
     "metadata": {},
     "output_type": "execute_result"
    }
   ],
   "source": [
    "inputs.shape"
   ]
  },
  {
   "cell_type": "code",
   "execution_count": 24,
   "metadata": {},
   "outputs": [],
   "source": [
    "X_train = inputs[inputs['date'].dt.year <= 2016]"
   ]
  },
  {
   "cell_type": "code",
   "execution_count": 25,
   "metadata": {},
   "outputs": [],
   "source": [
    "X_test = inputs[inputs['date'].dt.year >=2017]"
   ]
  },
  {
   "cell_type": "code",
   "execution_count": 26,
   "metadata": {},
   "outputs": [],
   "source": [
    "# Removing the 'date' column\n",
    "X_train.drop(labels='date', axis=True, inplace=True)\n",
    "X_test.drop(labels='date', axis=True, inplace=True)"
   ]
  },
  {
   "cell_type": "code",
   "execution_count": 27,
   "metadata": {},
   "outputs": [],
   "source": [
    "y_train = encoded_df[encoded_df['date'].dt.year <= 2016]['total'].values\n",
    "y_test = encoded_df[encoded_df['date'].dt.year >= 2017]['total'].values"
   ]
  },
  {
   "cell_type": "code",
   "execution_count": 28,
   "metadata": {},
   "outputs": [
    {
     "data": {
      "text/plain": [
       "array([207, 207, 207, ..., 107, 107, 107], dtype=int64)"
      ]
     },
     "execution_count": 28,
     "metadata": {},
     "output_type": "execute_result"
    }
   ],
   "source": [
    "y_test"
   ]
  },
  {
   "cell_type": "markdown",
   "metadata": {},
   "source": [
    "# Model Building"
   ]
  },
  {
   "cell_type": "code",
   "execution_count": 29,
   "metadata": {},
   "outputs": [
    {
     "data": {
      "text/plain": [
       "LinearRegression()"
      ]
     },
     "execution_count": 29,
     "metadata": {},
     "output_type": "execute_result"
    }
   ],
   "source": [
    "regressor = LinearRegression()\n",
    "regressor.fit(X_train,y_train)"
   ]
  },
  {
   "cell_type": "code",
   "execution_count": 30,
   "metadata": {},
   "outputs": [],
   "source": [
    "pred = regressor.predict(X_test)"
   ]
  },
  {
   "cell_type": "code",
   "execution_count": 31,
   "metadata": {},
   "outputs": [
    {
     "name": "stdout",
     "output_type": "stream",
     "text": [
      "Test Mean Absolute Error     11.277287121028426\n"
     ]
    }
   ],
   "source": [
    "k = mae(pred, y_test)\n",
    "print('Test Mean Absolute Error    ', k )"
   ]
  },
  {
   "cell_type": "code",
   "execution_count": 32,
   "metadata": {},
   "outputs": [],
   "source": [
    "#Creating a pickle file for the classifier\n",
    "filename = 'first-innings-score-lr-model.pkl'\n",
    "pickle.dump(regressor, open(filename, 'wb'))"
   ]
  },
  {
   "cell_type": "markdown",
   "metadata": {},
   "source": [
    "**Ridge Regression**"
   ]
  },
  {
   "cell_type": "code",
   "execution_count": 33,
   "metadata": {},
   "outputs": [
    {
     "data": {
      "text/plain": [
       "GridSearchCV(cv=5, estimator=Ridge(),\n",
       "             param_grid={'alpha': [1e-15, 1e-10, 1e-08, 0.001, 0.01, 1, 5, 10,\n",
       "                                   20, 30, 35, 40]},\n",
       "             scoring='neg_mean_squared_error')"
      ]
     },
     "execution_count": 33,
     "metadata": {},
     "output_type": "execute_result"
    }
   ],
   "source": [
    "ridge = Ridge()\n",
    "parameters = {'alpha':[1e-15,1e-10,1e-8,1e-3,1e-2,1,5,10,20,30,35,40]}\n",
    "ridge_regressor = GridSearchCV(ridge,parameters,scoring='neg_mean_squared_error',cv=5)\n",
    "ridge_regressor.fit(X_train,y_train)"
   ]
  },
  {
   "cell_type": "code",
   "execution_count": 34,
   "metadata": {},
   "outputs": [
    {
     "data": {
      "text/plain": [
       "{'alpha': 40}"
      ]
     },
     "execution_count": 34,
     "metadata": {},
     "output_type": "execute_result"
    }
   ],
   "source": [
    "ridge_regressor.best_params_"
   ]
  },
  {
   "cell_type": "code",
   "execution_count": 35,
   "metadata": {},
   "outputs": [
    {
     "data": {
      "text/plain": [
       "-354.0831624905774"
      ]
     },
     "execution_count": 35,
     "metadata": {},
     "output_type": "execute_result"
    }
   ],
   "source": [
    "ridge_regressor.best_score_"
   ]
  },
  {
   "cell_type": "code",
   "execution_count": 36,
   "metadata": {},
   "outputs": [],
   "source": [
    "prediction = ridge_regressor.predict(X_test)"
   ]
  },
  {
   "cell_type": "code",
   "execution_count": 37,
   "metadata": {},
   "outputs": [
    {
     "data": {
      "text/plain": [
       "<AxesSubplot:ylabel='Density'>"
      ]
     },
     "execution_count": 37,
     "metadata": {},
     "output_type": "execute_result"
    },
    {
     "data": {
      "image/png": "[encoded data removed]",
      "text/plain": [
       "<Figure size 432x288 with 1 Axes>"
      ]
     },
     "metadata": {
      "needs_background": "light"
     },
     "output_type": "display_data"
    }
   ],
   "source": [
    "sns.distplot(y_test-prediction)"
   ]
  },
  {
   "cell_type": "code",
   "execution_count": 38,
   "metadata": {},
   "outputs": [
    {
     "name": "stdout",
     "output_type": "stream",
     "text": [
      "MAE: 11.264128532526657\n",
      "MSE: 215.11085986879104\n",
      "RMSE: 14.666658101585073\n"
     ]
    }
   ],
   "source": [
    "print('MAE:', metrics.mean_absolute_error(y_test, prediction))\n",
    "print('MSE:', metrics.mean_squared_error(y_test, prediction))\n",
    "print('RMSE:', np.sqrt(metrics.mean_squared_error(y_test, prediction)))"
   ]
  },
  {
   "cell_type": "markdown",
   "metadata": {},
   "source": [
    "# Lasso Regression"
   ]
  },
  {
   "cell_type": "code",
   "execution_count": 39,
   "metadata": {},
   "outputs": [],
   "source": [
    "lasso = Lasso()\n",
    "parameters={'alpha':[1e-15,1e-10,1e-8,1e-3,1e-2,1,5,10,20,30,35,40]}\n",
    "lasso_regressor = GridSearchCV(lasso,parameters,scoring = 'neg_mean_squared_error',cv=5)"
   ]
  },
  {
   "cell_type": "code",
   "execution_count": 40,
   "metadata": {},
   "outputs": [
    {
     "data": {
      "text/plain": [
       "GridSearchCV(cv=5, estimator=Lasso(),\n",
       "             param_grid={'alpha': [1e-15, 1e-10, 1e-08, 0.001, 0.01, 1, 5, 10,\n",
       "                                   20, 30, 35, 40]},\n",
       "             scoring='neg_mean_squared_error')"
      ]
     },
     "execution_count": 40,
     "metadata": {},
     "output_type": "execute_result"
    }
   ],
   "source": [
    "lasso_regressor.fit(X_train,y_train)"
   ]
  },
  {
   "cell_type": "code",
   "execution_count": 41,
   "metadata": {},
   "outputs": [
    {
     "name": "stdout",
     "output_type": "stream",
     "text": [
      "{'alpha': 1}\n"
     ]
    },
    {
     "data": {
      "text/plain": [
       "-343.60288271461087"
      ]
     },
     "execution_count": 41,
     "metadata": {},
     "output_type": "execute_result"
    }
   ],
   "source": [
    "print(lasso_regressor.best_params_)\n",
    "lasso_regressor.best_score_"
   ]
  },
  {
   "cell_type": "code",
   "execution_count": 42,
   "metadata": {},
   "outputs": [],
   "source": [
    "prediction1 = lasso_regressor.predict(X_test)"
   ]
  },
  {
   "cell_type": "code",
   "execution_count": 43,
   "metadata": {},
   "outputs": [
    {
     "data": {
      "text/plain": [
       "<AxesSubplot:ylabel='Density'>"
      ]
     },
     "execution_count": 43,
     "metadata": {},
     "output_type": "execute_result"
    },
    {
     "data": {
      "image/png": "[encoded data removed]",
      "text/plain": [
       "<Figure size 432x288 with 1 Axes>"
      ]
     },
     "metadata": {
      "needs_background": "light"
     },
     "output_type": "display_data"
    }
   ],
   "source": [
    "sns.distplot(y_test-prediction1)"
   ]
  },
  {
   "cell_type": "code",
   "execution_count": 44,
   "metadata": {},
   "outputs": [
    {
     "name": "stdout",
     "output_type": "stream",
     "text": [
      "MAE: 11.141236227211975\n",
      "MSE: 204.4548540384101\n",
      "RMSE: 14.2987710674173\n"
     ]
    }
   ],
   "source": [
    "print('MAE:', metrics.mean_absolute_error(y_test, prediction1))\n",
    "print('MSE:', metrics.mean_squared_error(y_test, prediction1))\n",
    "print('RMSE:', np.sqrt(metrics.mean_squared_error(y_test, prediction1)))"
   ]
  },
  {
   "cell_type": "code",
   "execution_count": 45,
   "metadata": {},
   "outputs": [],
   "source": [
    "filename = 'first-innings-score-lasso-model.pkl'\n",
    "pickle.dump(lasso_regressor, open(filename, 'wb'))"
   ]
  },
  {
   "cell_type": "code",
   "execution_count": null,
   "metadata": {},
   "outputs": [],
   "source": []
  },
  {
   "cell_type": "code",
   "execution_count": null,
   "metadata": {},
   "outputs": [],
   "source": []
  },
  {
   "cell_type": "code",
   "execution_count": null,
   "metadata": {},
   "outputs": [],
   "source": []
  },
  {
   "cell_type": "code",
   "execution_count": null,
   "metadata": {},
   "outputs": [],
   "source": []
  },
  {
   "cell_type": "code",
   "execution_count": null,
   "metadata": {},
   "outputs": [],
   "source": []
  },
  {
   "cell_type": "code",
   "execution_count": null,
   "metadata": {},
   "outputs": [],
   "source": []
  }
 ],
 "metadata": {
  "kernelspec": {
   "display_name": "Python 3",
   "language": "python",
   "name": "python3"
  },
  "language_info": {
   "codemirror_mode": {
    "name": "ipython",
    "version": 3
   },
   "file_extension": ".py",
   "mimetype": "text/x-python",
   "name": "python",
   "nbconvert_exporter": "python",
   "pygments_lexer": "ipython3",
   "version": "3.8.6"
  }
 },
 "nbformat": 4,
 "nbformat_minor": 4
}
